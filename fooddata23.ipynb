import pandas as pd
import numpy as np
import matplotlib.pyploy as plt
fooddata = pd.read_csv('https://raw.githubusercontent.com/Akinnikemichael/fooddata23/main/food23.csv')
print(fooddata.head())
 
