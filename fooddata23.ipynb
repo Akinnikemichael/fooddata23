import pandas as pandas
data = pandas.read_csv('food23.csv')
print(data.head())
 
