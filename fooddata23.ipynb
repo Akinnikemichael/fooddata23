import pandas as pd
import numpy as np
import matplotlib.pyploy as plt
fooddata = pd.read_csv('food23.csv')
print(fooddata.head())
 
