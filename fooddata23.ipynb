import pandas as pandas
data = pandas.read_csv('fooddata23/food23.csv')
print(data.head())
 
